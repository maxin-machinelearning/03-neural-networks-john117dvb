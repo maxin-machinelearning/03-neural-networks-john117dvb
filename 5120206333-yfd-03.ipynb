{
 "cells": [
  {
   "cell_type": "markdown",
   "metadata": {},
   "source": [
    "前期数据处理"
   ]
  },
  {
   "cell_type": "code",
   "execution_count": 81,
   "metadata": {},
   "outputs": [],
   "source": [
    "import numpy as np\n",
    "import matplotlib.pyplot as plt\n",
    "\n",
    "# 构建数据\n",
    "N = 100\n",
    "\n",
    "X = np.linspace(-1,1,N)\n",
    "\n",
    "label = np.array(np.concatenate((np.zeros(70),np.ones(30))))\n",
    "\n",
    "\n",
    "# 构建测试数据及训练数据\n",
    "from sklearn.model_selection import train_test_split\n",
    "X_train,X_test,label_train,label_test=train_test_split(\n",
    "    X,label,random_state=1)"
   ]
  },
  {
   "cell_type": "markdown",
   "metadata": {},
   "source": [
    "回归问题"
   ]
  },
  {
   "cell_type": "code",
   "execution_count": 88,
   "metadata": {},
   "outputs": [
    {
     "name": "stdout",
     "output_type": "stream",
     "text": [
      "sklearn多层感知器-回归模型得分 0.8013344623976929\n",
      "总时间是： 0.000997304916381836\n"
     ]
    },
    {
     "data": {
      "image/png": "[encoded data removed]",
      "text/plain": [
       "<Figure size 432x288 with 1 Axes>"
      ]
     },
     "metadata": {
      "needs_background": "light"
     },
     "output_type": "display_data"
    }
   ],
   "source": [
    "from sklearn.neural_network import MLPRegressor\n",
    "from sklearn import preprocessing\n",
    "\n",
    "model_mlp = MLPRegressor()\n",
    "model_mlp.fit(X_train.reshape(-1,1),label_train)\n",
    "import time\n",
    "import datetime\n",
    "startTime = time.time()\n",
    "x1 = X.reshape(-1,1)\n",
    "mlp_score=model_mlp.score(x1,label)\n",
    "print('sklearn多层感知器-回归模型得分',mlp_score)#预测正确/总数\n",
    "result = model_mlp.predict(x1)\n",
    "stopTime = time.time()\n",
    "sumTime = stopTime - startTime\n",
    "print('总时间是：', sumTime)\n",
    "\n",
    "plt.plot(X_train, label_train, 'bo')\n",
    "plt.plot(x1, result, 'ro')\n",
    "plt.show()"
   ]
  },
  {
   "cell_type": "markdown",
   "metadata": {},
   "source": [
    "分类问题"
   ]
  },
  {
   "cell_type": "code",
   "execution_count": 106,
   "metadata": {},
   "outputs": [
    {
     "name": "stdout",
     "output_type": "stream",
     "text": [
      "4\n",
      "200\n",
      "0.3950243537765077\n",
      "logistic\n",
      "[1]\n"
     ]
    },
    {
     "name": "stderr",
     "output_type": "stream",
     "text": [
      "f:\\anaconda\\lib\\site-packages\\sklearn\\neural_network\\_multilayer_perceptron.py:617: ConvergenceWarning: Stochastic Optimizer: Maximum iterations (200) reached and the optimization hasn't converged yet.\n",
      "  % self.max_iter, ConvergenceWarning)\n"
     ]
    }
   ],
   "source": [
    "from tkinter import Y\n",
    "from sklearn.neural_network import MLPClassifier\n",
    "\n",
    "#输入数据（特征）\n",
    "x = [[0., 0.], [1., 1.]]\n",
    "\n",
    "# 标签数据（标签）\n",
    "y= [1, 2]\n",
    "\n",
    "# 创建分类器\n",
    "mlp = MLPClassifier(solver='adam', alpha=1e-5, hidden_layer_sizes=(5,2), random_state=1)\n",
    "\n",
    "# 训练分类器\n",
    "mlp.fit(x, y)\n",
    "\n",
    "print (mlp.n_layers_)\n",
    "print (mlp.n_iter_)\n",
    "print (mlp.loss_)\n",
    "print (mlp.out_activation_)\n",
    "              \n",
    "results = mlp.predict([[-2., -2.]])\n",
    "print(results)"
   ]
  },
  {
   "cell_type": "markdown",
   "metadata": {},
   "source": [
    "测试"
   ]
  },
  {
   "cell_type": "code",
   "execution_count": 18,
   "metadata": {},
   "outputs": [
    {
     "name": "stdout",
     "output_type": "stream",
     "text": [
      "Iteration 1, loss = 0.31443422\n",
      "Iteration 2, loss = 0.13116809\n",
      "Iteration 3, loss = 0.09821663\n",
      "Iteration 4, loss = 0.08121343\n",
      "Iteration 5, loss = 0.06766265\n",
      "Iteration 6, loss = 0.06211262\n",
      "Iteration 7, loss = 0.05296883\n",
      "Iteration 8, loss = 0.04745517\n",
      "Iteration 9, loss = 0.04395758\n",
      "Iteration 10, loss = 0.03888455\n",
      "0.9713\n",
      "4\n",
      "10\n",
      "0.03888454681923549\n",
      "softmax\n"
     ]
    },
    {
     "name": "stderr",
     "output_type": "stream",
     "text": [
      "f:\\anaconda\\lib\\site-packages\\sklearn\\neural_network\\_multilayer_perceptron.py:617: ConvergenceWarning: Stochastic Optimizer: Maximum iterations (10) reached and the optimization hasn't converged yet.\n",
      "  % self.max_iter, ConvergenceWarning)\n"
     ]
    }
   ],
   "source": [
    "\n",
    "from sklearn.neural_network import MLPClassifier\n",
    "import numpy as np\n",
    "import pickle\n",
    "import gzip\n",
    "\n",
    "\n",
    "# 加载数据\n",
    "# mnist = fetch_mldata(\"MNIST original\")\n",
    "with gzip.open(\"D:\\shujuji\\mnist.pkl.gz\") as fp:\n",
    "    training_data,valid_data,test_data = pickle.load(fp,encoding='bytes')\n",
    "x_training_data,y_training_data = training_data\n",
    "x_valid_data,y_valid_data = valid_data\n",
    "x_test_data,y_test_data = test_data\n",
    "classes = np.unique(y_test_data)\n",
    "\n",
    "# 将验证集和训练集合并\n",
    "x_training_data_final = np.vstack((x_training_data,x_valid_data))\n",
    "y_training_data_final = np.append(y_training_data,y_valid_data)\n",
    "\n",
    "\n",
    "# 设置神经网络模型参数\n",
    "mlp = MLPClassifier(solver='sgd', activation='relu',alpha=1e-4,hidden_layer_sizes=(50,50), random_state=1,max_iter=10,verbose=10,learning_rate_init=.1)\n",
    "\n",
    "# 训练模型\n",
    "mlp.fit(x_training_data_final, y_training_data_final) \n",
    "\n",
    "# 查看模型结果\n",
    "print (mlp.score(x_test_data,y_test_data))\n",
    "print (mlp.n_layers_)\n",
    "print (mlp.n_iter_)\n",
    "print (mlp.loss_)\n",
    "print (mlp.out_activation_)"
   ]
  }
 ],
 "metadata": {
  "kernelspec": {
   "display_name": "Python 3.7.0 ('base')",
   "language": "python",
   "name": "python3"
  },
  "language_info": {
   "codemirror_mode": {
    "name": "ipython",
    "version": 3
   },
   "file_extension": ".py",
   "mimetype": "text/x-python",
   "name": "python",
   "nbconvert_exporter": "python",
   "pygments_lexer": "ipython3",
   "version": "3.7.0"
  },
  "orig_nbformat": 4,
  "vscode": {
   "interpreter": {
    "hash": "ec3b6344b8b3f6c3db1463248c46b8920f4fc68f6187e2c1e71f56a52299e245"
   }
  }
 },
 "nbformat": 4,
 "nbformat_minor": 2
}
